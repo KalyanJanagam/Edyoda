{
 "cells": [
  {
   "cell_type": "markdown",
   "id": "71c9dc5b",
   "metadata": {},
   "source": [
    "## Assignment-1: Operators | Loops"
   ]
  },
  {
   "cell_type": "markdown",
   "id": "fc8f5cc2",
   "metadata": {},
   "source": [
    "####  1. Lets Play With Fibonacci"
   ]
  },
  {
   "cell_type": "code",
   "execution_count": 3,
   "id": "472fb825",
   "metadata": {},
   "outputs": [
    {
     "name": "stdout",
     "output_type": "stream",
     "text": [
      "1 1 2 3 5 8 13 21 34 "
     ]
    }
   ],
   "source": [
    "x,y=0,1\n",
    "\n",
    "while y<50:\n",
    "    print(y,end=\" \")\n",
    "    x,y = y,x+y"
   ]
  },
  {
   "cell_type": "markdown",
   "id": "5eb10afc",
   "metadata": {},
   "source": [
    "#### 2.Send the Words To Mirror Dimension"
   ]
  },
  {
   "cell_type": "code",
   "execution_count": 5,
   "id": "087ef742",
   "metadata": {},
   "outputs": [
    {
     "name": "stdout",
     "output_type": "stream",
     "text": [
      "Enter a string:Edyoda\n",
      "adoydE\n"
     ]
    }
   ],
   "source": [
    "A=input('Enter a string:')[::-1]\n",
    "print(A)"
   ]
  },
  {
   "cell_type": "markdown",
   "id": "deff86ba",
   "metadata": {},
   "source": [
    "#### 3.Don't go Outside in Odd day"
   ]
  },
  {
   "cell_type": "code",
   "execution_count": 16,
   "id": "d24e636f",
   "metadata": {},
   "outputs": [
    {
     "name": "stdout",
     "output_type": "stream",
     "text": [
      "Number of even numbers : 4\n",
      "Number of odd numbers : 5\n"
     ]
    }
   ],
   "source": [
    "Sample_numbers = (1, 2, 3, 4, 5, 6, 7, 8, 9)\n",
    "odd_count = 0\n",
    "even_count = 0\n",
    "for i in Sample_numbers:\n",
    "        if not i % 2:\n",
    "             even_count+=1\n",
    "        else:\n",
    "             odd_count+=1\n",
    "print(\"Number of even numbers :\",even_count)\n",
    "print(\"Number of odd numbers :\",odd_count)"
   ]
  },
  {
   "cell_type": "code",
   "execution_count": null,
   "id": "a06ab14b",
   "metadata": {},
   "outputs": [],
   "source": []
  },
  {
   "cell_type": "code",
   "execution_count": null,
   "id": "3828f03f",
   "metadata": {},
   "outputs": [],
   "source": []
  }
 ],
 "metadata": {
  "kernelspec": {
   "display_name": "Python 3 (ipykernel)",
   "language": "python",
   "name": "python3"
  },
  "language_info": {
   "codemirror_mode": {
    "name": "ipython",
    "version": 3
   },
   "file_extension": ".py",
   "mimetype": "text/x-python",
   "name": "python",
   "nbconvert_exporter": "python",
   "pygments_lexer": "ipython3",
   "version": "3.9.7"
  }
 },
 "nbformat": 4,
 "nbformat_minor": 5
}
