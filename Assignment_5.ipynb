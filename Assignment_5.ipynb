{
 "cells": [
  {
   "cell_type": "code",
   "execution_count": 1,
   "id": "a5609424",
   "metadata": {},
   "outputs": [
    {
     "name": "stdout",
     "output_type": "stream",
     "text": [
      "enter value of x:10\n",
      "enter value of n:2\n",
      "n-th power of x is: 100\n"
     ]
    }
   ],
   "source": [
    "class Power():\n",
    "    \n",
    "    def __init__(self,x,n):\n",
    "        self.X=x\n",
    "        self.N=n\n",
    "    def print_pow(self):\n",
    "        y=self.X**self.N\n",
    "        print('n-th power of x is:', y)\n",
    "P=Power(int(input('enter value of x:')),int(input('enter value of n:')))\n",
    "P.print_pow()"
   ]
  },
  {
   "cell_type": "code",
   "execution_count": null,
   "id": "9b02a2ab",
   "metadata": {},
   "outputs": [],
   "source": []
  }
 ],
 "metadata": {
  "kernelspec": {
   "display_name": "Python 3 (ipykernel)",
   "language": "python",
   "name": "python3"
  },
  "language_info": {
   "codemirror_mode": {
    "name": "ipython",
    "version": 3
   },
   "file_extension": ".py",
   "mimetype": "text/x-python",
   "name": "python",
   "nbconvert_exporter": "python",
   "pygments_lexer": "ipython3",
   "version": "3.9.7"
  }
 },
 "nbformat": 4,
 "nbformat_minor": 5
}
